{
  "nbformat": 4,
  "nbformat_minor": 0,
  "metadata": {
    "colab": {
      "provenance": [],
      "authorship_tag": "ABX9TyNY5ToqyKNmdBbtevju74qU",
      "include_colab_link": true
    },
    "kernelspec": {
      "name": "python3",
      "display_name": "Python 3"
    },
    "language_info": {
      "name": "python"
    }
  },
  "cells": [
    {
      "cell_type": "markdown",
      "metadata": {
        "id": "view-in-github",
        "colab_type": "text"
      },
      "source": [
        "<a href=\"https://colab.research.google.com/github/Dhanushiya-srini/GenAI-apex/blob/main/day_4_langchain.ipynb\" target=\"_parent\"><img src=\"https://colab.research.google.com/assets/colab-badge.svg\" alt=\"Open In Colab\"/></a>"
      ]
    },
    {
      "cell_type": "code",
      "execution_count": null,
      "metadata": {
        "id": "BNS16ZWhPSEn"
      },
      "outputs": [],
      "source": [
        "from langchain.prompts import PromptTemplate"
      ]
    },
    {
      "cell_type": "code",
      "source": [
        "%pip install --upgrade --quiet langchain-google-genai"
      ],
      "metadata": {
        "colab": {
          "base_uri": "https://localhost:8080/"
        },
        "id": "jzUWOAeZP0pn",
        "outputId": "65193e50-2830-439e-8a38-409bb5031455"
      },
      "execution_count": null,
      "outputs": [
        {
          "output_type": "stream",
          "name": "stdout",
          "text": [
            "\u001b[?25l   \u001b[90m━━━━━━━━━━━━━━━━━━━━━━━━━━━━━━━━━━━━━━━━\u001b[0m \u001b[32m0.0/41.3 kB\u001b[0m \u001b[31m?\u001b[0m eta \u001b[36m-:--:--\u001b[0m\r\u001b[2K   \u001b[90m━━━━━━━━━━━━━━━━━━━━━━━━━━━━━━━━━━━━━━━━\u001b[0m \u001b[32m41.3/41.3 kB\u001b[0m \u001b[31m1.5 MB/s\u001b[0m eta \u001b[36m0:00:00\u001b[0m\n",
            "\u001b[?25h"
          ]
        }
      ]
    },
    {
      "cell_type": "code",
      "source": [
        "from langchain_google_genai import GoogleGenerativeAI"
      ],
      "metadata": {
        "id": "yfQnM26CQNFR"
      },
      "execution_count": null,
      "outputs": []
    },
    {
      "cell_type": "code",
      "source": [
        "from google.colab import userdata\n",
        "key=userdata.get('google_api_key')"
      ],
      "metadata": {
        "id": "h_S_zJ3uQ-wQ"
      },
      "execution_count": null,
      "outputs": []
    },
    {
      "cell_type": "code",
      "source": [
        "model=GoogleGenerativeAI(model=\"gemini-pro\",google_api_key=key)"
      ],
      "metadata": {
        "id": "JbCHxVUpQa8m"
      },
      "execution_count": null,
      "outputs": []
    },
    {
      "cell_type": "code",
      "source": [
        "demo_template=\"\"\" you are expert in {programming}.{query} \"\"\""
      ],
      "metadata": {
        "id": "3ugw9AgBTPDn"
      },
      "execution_count": null,
      "outputs": []
    },
    {
      "cell_type": "code",
      "source": [
        "prompt=PromptTemplate(input_variables=[\"programming\",\"query\"],template=demo_template)"
      ],
      "metadata": {
        "id": "8QV3ivKyTwr0"
      },
      "execution_count": null,
      "outputs": []
    },
    {
      "cell_type": "code",
      "source": [
        "prompt_text=prompt.format(programming=\"java\",query=\"write a function to display the list of even numbers\")"
      ],
      "metadata": {
        "id": "kEA3XVggUKah"
      },
      "execution_count": null,
      "outputs": []
    },
    {
      "cell_type": "code",
      "source": [
        "res=model.invoke(prompt_text)"
      ],
      "metadata": {
        "id": "geLZqOc8ZDd3"
      },
      "execution_count": null,
      "outputs": []
    },
    {
      "cell_type": "code",
      "source": [
        "print(res)"
      ],
      "metadata": {
        "colab": {
          "base_uri": "https://localhost:8080/"
        },
        "id": "mRHHnnHWZEXe",
        "outputId": "639143a5-61eb-4c62-ef57-9a4142732505"
      },
      "execution_count": null,
      "outputs": [
        {
          "output_type": "stream",
          "name": "stdout",
          "text": [
            "```java\n",
            "import java.util.ArrayList;\n",
            "import java.util.List;\n",
            "\n",
            "public class EvenNumbers {\n",
            "\n",
            "    public static List<Integer> getEvenNumbers(int[] numbers) {\n",
            "        List<Integer> evenNumbers = new ArrayList<>();\n",
            "\n",
            "        for (int number : numbers) {\n",
            "            if (number % 2 == 0) {\n",
            "                evenNumbers.add(number);\n",
            "            }\n",
            "        }\n",
            "\n",
            "        return evenNumbers;\n",
            "    }\n",
            "\n",
            "    public static void main(String[] args) {\n",
            "        int[] numbers = {1, 2, 3, 4, 5, 6, 7, 8, 9, 10};\n",
            "        List<Integer> evenNumbers = getEvenNumbers(numbers);\n",
            "\n",
            "        System.out.println(evenNumbers); // Output: [2, 4, 6, 8, 10]\n",
            "    }\n",
            "}\n",
            "```\n"
          ]
        }
      ]
    },
    {
      "cell_type": "code",
      "source": [
        "from langchain.chains import LLMChain"
      ],
      "metadata": {
        "id": "ZMfrxMAyZG22"
      },
      "execution_count": null,
      "outputs": []
    },
    {
      "cell_type": "code",
      "source": [
        "llm_chain=LLMChain(prompt=prompt,llm=model)"
      ],
      "metadata": {
        "colab": {
          "base_uri": "https://localhost:8080/"
        },
        "id": "MReo8bjOmZgf",
        "outputId": "023bb0ec-a5ec-4500-ded0-4fe14a8066ef"
      },
      "execution_count": null,
      "outputs": [
        {
          "output_type": "stream",
          "name": "stderr",
          "text": [
            "<ipython-input-41-8ab1d06046c7>:1: LangChainDeprecationWarning: The class `LLMChain` was deprecated in LangChain 0.1.17 and will be removed in 1.0. Use :meth:`~RunnableSequence, e.g., `prompt | llm`` instead.\n",
            "  llm_chain=LLMChain(prompt=prompt,llm=model)\n"
          ]
        }
      ]
    },
    {
      "cell_type": "code",
      "source": [
        "res=llm_chain.run({\"programming\":\"python\",\"query\":\"write a program for triangle pattern numbers\"})"
      ],
      "metadata": {
        "id": "p61ERW_xme4J"
      },
      "execution_count": null,
      "outputs": []
    },
    {
      "cell_type": "code",
      "source": [
        "print(res)"
      ],
      "metadata": {
        "colab": {
          "base_uri": "https://localhost:8080/"
        },
        "id": "C2O3be6lmksy",
        "outputId": "95fffd1b-90e5-47c5-fde3-08970de1a3ae"
      },
      "execution_count": null,
      "outputs": [
        {
          "output_type": "stream",
          "name": "stdout",
          "text": [
            "```python\n",
            "# This program prints a triangle pattern of numbers.\n",
            "\n",
            "# Get the number of rows from the user.\n",
            "rows = int(input(\"Enter the number of rows: \"))\n",
            "\n",
            "# Iterate over the rows.\n",
            "for i in range(1, rows + 1):\n",
            "    # Iterate over the columns.\n",
            "    for j in range(1, i + 1):\n",
            "        # Print the number.\n",
            "        print(j, end=\" \")\n",
            "    # Move to the next line.\n",
            "    print()\n",
            "```\n"
          ]
        }
      ]
    }
  ]
}